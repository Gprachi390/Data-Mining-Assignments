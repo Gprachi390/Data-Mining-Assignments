{
 "cells": [
  {
   "cell_type": "code",
   "execution_count": 106,
   "id": "da07c706",
   "metadata": {},
   "outputs": [],
   "source": [
    "#importing necessary libraries\n",
    "import numpy as np\n",
    "import pandas as pd\n",
    "from sklearn.model_selection import train_test_split\n",
    "from sklearn import metrics\n",
    "import seaborn as sns\n",
    "import matplotlib.pyplot as plt\n",
    "from sklearn.preprocessing import OneHotEncoder\n",
    "from sklearn.manifold import TSNE\n",
    "from sklearn.cluster import KMeans\n",
    "from sklearn.cluster import AgglomerativeClustering\n",
    "from sklearn.cluster import Birch\n",
    "from sklearn.mixture import GaussianMixture\n",
    "from sklearn.metrics.cluster import rand_score\n",
    "from scipy.stats import mode\n",
    "import pickle\n",
    "from sklearn.metrics import f1_score\n",
    "from sklearn.model_selection import train_test_split\n",
    "from sklearn.metrics import classification_report"
   ]
  },
  {
   "cell_type": "code",
   "execution_count": 2,
   "id": "f74f2243",
   "metadata": {},
   "outputs": [],
   "source": [
    "#load the datset\n",
    "df = pd.read_csv(\"covtype_train.csv\")"
   ]
  },
  {
   "cell_type": "code",
   "execution_count": 3,
   "id": "efc53648",
   "metadata": {},
   "outputs": [
    {
     "data": {
      "text/html": [
       "<div>\n",
       "<style scoped>\n",
       "    .dataframe tbody tr th:only-of-type {\n",
       "        vertical-align: middle;\n",
       "    }\n",
       "\n",
       "    .dataframe tbody tr th {\n",
       "        vertical-align: top;\n",
       "    }\n",
       "\n",
       "    .dataframe thead th {\n",
       "        text-align: right;\n",
       "    }\n",
       "</style>\n",
       "<table border=\"1\" class=\"dataframe\">\n",
       "  <thead>\n",
       "    <tr style=\"text-align: right;\">\n",
       "      <th></th>\n",
       "      <th>Elevation</th>\n",
       "      <th>Aspect</th>\n",
       "      <th>Slope</th>\n",
       "      <th>Hillshade_9am</th>\n",
       "      <th>Hillshade_Noon</th>\n",
       "      <th>Horizontal_Distance_To_Hydrology</th>\n",
       "      <th>Vertical_Distance_To_Hydrology</th>\n",
       "      <th>Horizontal_Distance_To_Fire_Points</th>\n",
       "      <th>Soil_Type</th>\n",
       "      <th>Wilderness</th>\n",
       "      <th>target</th>\n",
       "    </tr>\n",
       "  </thead>\n",
       "  <tbody>\n",
       "    <tr>\n",
       "      <th>0</th>\n",
       "      <td>elevation_medium</td>\n",
       "      <td>aspect_medium</td>\n",
       "      <td>slope_low</td>\n",
       "      <td>hillshade_9am_max</td>\n",
       "      <td>hillnoon_max</td>\n",
       "      <td>0</td>\n",
       "      <td>1</td>\n",
       "      <td>low</td>\n",
       "      <td>22</td>\n",
       "      <td>0</td>\n",
       "      <td>2</td>\n",
       "    </tr>\n",
       "    <tr>\n",
       "      <th>1</th>\n",
       "      <td>elevation_high</td>\n",
       "      <td>aspect_medium</td>\n",
       "      <td>slope_low</td>\n",
       "      <td>hillshade_9am_max</td>\n",
       "      <td>hillnoon_max</td>\n",
       "      <td>1</td>\n",
       "      <td>1</td>\n",
       "      <td>mid</td>\n",
       "      <td>32</td>\n",
       "      <td>2</td>\n",
       "      <td>1</td>\n",
       "    </tr>\n",
       "    <tr>\n",
       "      <th>2</th>\n",
       "      <td>elevation_medium</td>\n",
       "      <td>aspect_low</td>\n",
       "      <td>slope_low</td>\n",
       "      <td>hillshade_9am_max</td>\n",
       "      <td>hillnoon_max</td>\n",
       "      <td>1</td>\n",
       "      <td>1</td>\n",
       "      <td>low</td>\n",
       "      <td>10</td>\n",
       "      <td>2</td>\n",
       "      <td>2</td>\n",
       "    </tr>\n",
       "    <tr>\n",
       "      <th>3</th>\n",
       "      <td>elevation_high</td>\n",
       "      <td>aspect_ultra</td>\n",
       "      <td>slope_medium</td>\n",
       "      <td>hillshade_9am_max</td>\n",
       "      <td>hillnoon_max</td>\n",
       "      <td>2</td>\n",
       "      <td>1</td>\n",
       "      <td>low</td>\n",
       "      <td>23</td>\n",
       "      <td>2</td>\n",
       "      <td>1</td>\n",
       "    </tr>\n",
       "    <tr>\n",
       "      <th>4</th>\n",
       "      <td>elevation_high</td>\n",
       "      <td>aspect_high</td>\n",
       "      <td>slope_low</td>\n",
       "      <td>hillshade_9am_max</td>\n",
       "      <td>hillnoon_max</td>\n",
       "      <td>2</td>\n",
       "      <td>1</td>\n",
       "      <td>mid</td>\n",
       "      <td>28</td>\n",
       "      <td>0</td>\n",
       "      <td>2</td>\n",
       "    </tr>\n",
       "    <tr>\n",
       "      <th>...</th>\n",
       "      <td>...</td>\n",
       "      <td>...</td>\n",
       "      <td>...</td>\n",
       "      <td>...</td>\n",
       "      <td>...</td>\n",
       "      <td>...</td>\n",
       "      <td>...</td>\n",
       "      <td>...</td>\n",
       "      <td>...</td>\n",
       "      <td>...</td>\n",
       "      <td>...</td>\n",
       "    </tr>\n",
       "    <tr>\n",
       "      <th>406703</th>\n",
       "      <td>elevation_ultra</td>\n",
       "      <td>aspect_medium</td>\n",
       "      <td>slope_low</td>\n",
       "      <td>hillshade_9am_max</td>\n",
       "      <td>hillnoon_max</td>\n",
       "      <td>1</td>\n",
       "      <td>1</td>\n",
       "      <td>mid</td>\n",
       "      <td>39</td>\n",
       "      <td>0</td>\n",
       "      <td>7</td>\n",
       "    </tr>\n",
       "    <tr>\n",
       "      <th>406704</th>\n",
       "      <td>elevation_medium</td>\n",
       "      <td>aspect_low</td>\n",
       "      <td>slope_medium</td>\n",
       "      <td>hillshade_9am_max</td>\n",
       "      <td>hillnoon_max</td>\n",
       "      <td>0</td>\n",
       "      <td>1</td>\n",
       "      <td>mid</td>\n",
       "      <td>28</td>\n",
       "      <td>0</td>\n",
       "      <td>2</td>\n",
       "    </tr>\n",
       "    <tr>\n",
       "      <th>406705</th>\n",
       "      <td>elevation_medium</td>\n",
       "      <td>aspect_medium</td>\n",
       "      <td>slope_low</td>\n",
       "      <td>hillshade_9am_max</td>\n",
       "      <td>hillnoon_max</td>\n",
       "      <td>0</td>\n",
       "      <td>1</td>\n",
       "      <td>mid</td>\n",
       "      <td>28</td>\n",
       "      <td>0</td>\n",
       "      <td>2</td>\n",
       "    </tr>\n",
       "    <tr>\n",
       "      <th>406706</th>\n",
       "      <td>elevation_high</td>\n",
       "      <td>aspect_high</td>\n",
       "      <td>slope_low</td>\n",
       "      <td>hillshade_9am_max</td>\n",
       "      <td>hillnoon_max</td>\n",
       "      <td>2</td>\n",
       "      <td>2</td>\n",
       "      <td>low</td>\n",
       "      <td>28</td>\n",
       "      <td>0</td>\n",
       "      <td>2</td>\n",
       "    </tr>\n",
       "    <tr>\n",
       "      <th>406707</th>\n",
       "      <td>elevation_medium</td>\n",
       "      <td>aspect_ultra</td>\n",
       "      <td>slope_low</td>\n",
       "      <td>hillshade_9am_max</td>\n",
       "      <td>hillnoon_max</td>\n",
       "      <td>0</td>\n",
       "      <td>1</td>\n",
       "      <td>low</td>\n",
       "      <td>30</td>\n",
       "      <td>2</td>\n",
       "      <td>2</td>\n",
       "    </tr>\n",
       "  </tbody>\n",
       "</table>\n",
       "<p>406708 rows × 11 columns</p>\n",
       "</div>"
      ],
      "text/plain": [
       "               Elevation         Aspect         Slope      Hillshade_9am  \\\n",
       "0       elevation_medium  aspect_medium     slope_low  hillshade_9am_max   \n",
       "1         elevation_high  aspect_medium     slope_low  hillshade_9am_max   \n",
       "2       elevation_medium     aspect_low     slope_low  hillshade_9am_max   \n",
       "3         elevation_high   aspect_ultra  slope_medium  hillshade_9am_max   \n",
       "4         elevation_high    aspect_high     slope_low  hillshade_9am_max   \n",
       "...                  ...            ...           ...                ...   \n",
       "406703   elevation_ultra  aspect_medium     slope_low  hillshade_9am_max   \n",
       "406704  elevation_medium     aspect_low  slope_medium  hillshade_9am_max   \n",
       "406705  elevation_medium  aspect_medium     slope_low  hillshade_9am_max   \n",
       "406706    elevation_high    aspect_high     slope_low  hillshade_9am_max   \n",
       "406707  elevation_medium   aspect_ultra     slope_low  hillshade_9am_max   \n",
       "\n",
       "       Hillshade_Noon  Horizontal_Distance_To_Hydrology  \\\n",
       "0        hillnoon_max                                 0   \n",
       "1        hillnoon_max                                 1   \n",
       "2        hillnoon_max                                 1   \n",
       "3        hillnoon_max                                 2   \n",
       "4        hillnoon_max                                 2   \n",
       "...               ...                               ...   \n",
       "406703   hillnoon_max                                 1   \n",
       "406704   hillnoon_max                                 0   \n",
       "406705   hillnoon_max                                 0   \n",
       "406706   hillnoon_max                                 2   \n",
       "406707   hillnoon_max                                 0   \n",
       "\n",
       "        Vertical_Distance_To_Hydrology Horizontal_Distance_To_Fire_Points  \\\n",
       "0                                    1                                low   \n",
       "1                                    1                                mid   \n",
       "2                                    1                                low   \n",
       "3                                    1                                low   \n",
       "4                                    1                                mid   \n",
       "...                                ...                                ...   \n",
       "406703                               1                                mid   \n",
       "406704                               1                                mid   \n",
       "406705                               1                                mid   \n",
       "406706                               2                                low   \n",
       "406707                               1                                low   \n",
       "\n",
       "        Soil_Type  Wilderness  target  \n",
       "0              22           0       2  \n",
       "1              32           2       1  \n",
       "2              10           2       2  \n",
       "3              23           2       1  \n",
       "4              28           0       2  \n",
       "...           ...         ...     ...  \n",
       "406703         39           0       7  \n",
       "406704         28           0       2  \n",
       "406705         28           0       2  \n",
       "406706         28           0       2  \n",
       "406707         30           2       2  \n",
       "\n",
       "[406708 rows x 11 columns]"
      ]
     },
     "execution_count": 3,
     "metadata": {},
     "output_type": "execute_result"
    }
   ],
   "source": [
    "df"
   ]
  },
  {
   "cell_type": "code",
   "execution_count": 4,
   "id": "316dc0be",
   "metadata": {},
   "outputs": [
    {
     "name": "stdout",
     "output_type": "stream",
     "text": [
      "<class 'pandas.core.frame.DataFrame'>\n",
      "RangeIndex: 406708 entries, 0 to 406707\n",
      "Data columns (total 11 columns):\n",
      " #   Column                              Non-Null Count   Dtype \n",
      "---  ------                              --------------   ----- \n",
      " 0   Elevation                           406708 non-null  object\n",
      " 1   Aspect                              406708 non-null  object\n",
      " 2   Slope                               406708 non-null  object\n",
      " 3   Hillshade_9am                       406708 non-null  object\n",
      " 4   Hillshade_Noon                      406708 non-null  object\n",
      " 5   Horizontal_Distance_To_Hydrology    406708 non-null  int64 \n",
      " 6   Vertical_Distance_To_Hydrology      406708 non-null  int64 \n",
      " 7   Horizontal_Distance_To_Fire_Points  406708 non-null  object\n",
      " 8   Soil_Type                           406708 non-null  int64 \n",
      " 9   Wilderness                          406708 non-null  int64 \n",
      " 10  target                              406708 non-null  int64 \n",
      "dtypes: int64(5), object(6)\n",
      "memory usage: 34.1+ MB\n"
     ]
    }
   ],
   "source": [
    "#checking the dataframe\n",
    "df.info()"
   ]
  },
  {
   "cell_type": "code",
   "execution_count": 5,
   "id": "9e48c8d5",
   "metadata": {},
   "outputs": [
    {
     "data": {
      "text/plain": [
       "target\n",
       "1    148288\n",
       "2    198310\n",
       "3     25028\n",
       "4      1923\n",
       "5      6645\n",
       "6     12157\n",
       "7     14357\n",
       "dtype: int64"
      ]
     },
     "execution_count": 5,
     "metadata": {},
     "output_type": "execute_result"
    }
   ],
   "source": [
    "#checking the target labels\n",
    "df.groupby('target').size()"
   ]
  },
  {
   "cell_type": "code",
   "execution_count": 6,
   "id": "3a169e4c",
   "metadata": {},
   "outputs": [
    {
     "data": {
      "text/plain": [
       "(406708, 11)"
      ]
     },
     "execution_count": 6,
     "metadata": {},
     "output_type": "execute_result"
    }
   ],
   "source": [
    "df.shape"
   ]
  },
  {
   "cell_type": "code",
   "execution_count": 7,
   "id": "8b19e2ea",
   "metadata": {},
   "outputs": [
    {
     "data": {
      "text/plain": [
       "Elevation                             0\n",
       "Aspect                                0\n",
       "Slope                                 0\n",
       "Hillshade_9am                         0\n",
       "Hillshade_Noon                        0\n",
       "Horizontal_Distance_To_Hydrology      0\n",
       "Vertical_Distance_To_Hydrology        0\n",
       "Horizontal_Distance_To_Fire_Points    0\n",
       "Soil_Type                             0\n",
       "Wilderness                            0\n",
       "target                                0\n",
       "dtype: int64"
      ]
     },
     "execution_count": 7,
     "metadata": {},
     "output_type": "execute_result"
    }
   ],
   "source": [
    "#check if any null values\n",
    "df.isnull().sum()"
   ]
  },
  {
   "cell_type": "code",
   "execution_count": 8,
   "id": "cb5a1c49",
   "metadata": {},
   "outputs": [
    {
     "data": {
      "text/html": [
       "<div>\n",
       "<style scoped>\n",
       "    .dataframe tbody tr th:only-of-type {\n",
       "        vertical-align: middle;\n",
       "    }\n",
       "\n",
       "    .dataframe tbody tr th {\n",
       "        vertical-align: top;\n",
       "    }\n",
       "\n",
       "    .dataframe thead th {\n",
       "        text-align: right;\n",
       "    }\n",
       "</style>\n",
       "<table border=\"1\" class=\"dataframe\">\n",
       "  <thead>\n",
       "    <tr style=\"text-align: right;\">\n",
       "      <th></th>\n",
       "      <th>Elevation</th>\n",
       "      <th>Aspect</th>\n",
       "      <th>Slope</th>\n",
       "      <th>Hillshade_9am</th>\n",
       "      <th>Hillshade_Noon</th>\n",
       "      <th>Horizontal_Distance_To_Hydrology</th>\n",
       "      <th>Vertical_Distance_To_Hydrology</th>\n",
       "      <th>Horizontal_Distance_To_Fire_Points</th>\n",
       "      <th>Soil_Type</th>\n",
       "      <th>Wilderness</th>\n",
       "      <th>target</th>\n",
       "    </tr>\n",
       "  </thead>\n",
       "  <tbody>\n",
       "    <tr>\n",
       "      <th>0</th>\n",
       "      <td>elevation_medium</td>\n",
       "      <td>aspect_medium</td>\n",
       "      <td>slope_low</td>\n",
       "      <td>hillshade_9am_max</td>\n",
       "      <td>hillnoon_max</td>\n",
       "      <td>0</td>\n",
       "      <td>1</td>\n",
       "      <td>low</td>\n",
       "      <td>22</td>\n",
       "      <td>0</td>\n",
       "      <td>2</td>\n",
       "    </tr>\n",
       "    <tr>\n",
       "      <th>1</th>\n",
       "      <td>elevation_high</td>\n",
       "      <td>aspect_medium</td>\n",
       "      <td>slope_low</td>\n",
       "      <td>hillshade_9am_max</td>\n",
       "      <td>hillnoon_max</td>\n",
       "      <td>1</td>\n",
       "      <td>1</td>\n",
       "      <td>mid</td>\n",
       "      <td>32</td>\n",
       "      <td>2</td>\n",
       "      <td>1</td>\n",
       "    </tr>\n",
       "    <tr>\n",
       "      <th>2</th>\n",
       "      <td>elevation_medium</td>\n",
       "      <td>aspect_low</td>\n",
       "      <td>slope_low</td>\n",
       "      <td>hillshade_9am_max</td>\n",
       "      <td>hillnoon_max</td>\n",
       "      <td>1</td>\n",
       "      <td>1</td>\n",
       "      <td>low</td>\n",
       "      <td>10</td>\n",
       "      <td>2</td>\n",
       "      <td>2</td>\n",
       "    </tr>\n",
       "    <tr>\n",
       "      <th>3</th>\n",
       "      <td>elevation_high</td>\n",
       "      <td>aspect_ultra</td>\n",
       "      <td>slope_medium</td>\n",
       "      <td>hillshade_9am_max</td>\n",
       "      <td>hillnoon_max</td>\n",
       "      <td>2</td>\n",
       "      <td>1</td>\n",
       "      <td>low</td>\n",
       "      <td>23</td>\n",
       "      <td>2</td>\n",
       "      <td>1</td>\n",
       "    </tr>\n",
       "    <tr>\n",
       "      <th>4</th>\n",
       "      <td>elevation_high</td>\n",
       "      <td>aspect_high</td>\n",
       "      <td>slope_low</td>\n",
       "      <td>hillshade_9am_max</td>\n",
       "      <td>hillnoon_max</td>\n",
       "      <td>2</td>\n",
       "      <td>1</td>\n",
       "      <td>mid</td>\n",
       "      <td>28</td>\n",
       "      <td>0</td>\n",
       "      <td>2</td>\n",
       "    </tr>\n",
       "    <tr>\n",
       "      <th>...</th>\n",
       "      <td>...</td>\n",
       "      <td>...</td>\n",
       "      <td>...</td>\n",
       "      <td>...</td>\n",
       "      <td>...</td>\n",
       "      <td>...</td>\n",
       "      <td>...</td>\n",
       "      <td>...</td>\n",
       "      <td>...</td>\n",
       "      <td>...</td>\n",
       "      <td>...</td>\n",
       "    </tr>\n",
       "    <tr>\n",
       "      <th>405630</th>\n",
       "      <td>elevation_high</td>\n",
       "      <td>aspect_high</td>\n",
       "      <td>slope_low</td>\n",
       "      <td>hillshade_9am_max</td>\n",
       "      <td>hillnoon_max</td>\n",
       "      <td>2</td>\n",
       "      <td>2</td>\n",
       "      <td>low</td>\n",
       "      <td>3</td>\n",
       "      <td>2</td>\n",
       "      <td>5</td>\n",
       "    </tr>\n",
       "    <tr>\n",
       "      <th>405688</th>\n",
       "      <td>elevation_medium</td>\n",
       "      <td>aspect_low</td>\n",
       "      <td>slope_medium</td>\n",
       "      <td>hillshade_9am_max</td>\n",
       "      <td>hillnoon_max</td>\n",
       "      <td>1</td>\n",
       "      <td>1</td>\n",
       "      <td>low</td>\n",
       "      <td>19</td>\n",
       "      <td>0</td>\n",
       "      <td>1</td>\n",
       "    </tr>\n",
       "    <tr>\n",
       "      <th>405828</th>\n",
       "      <td>elevation_high</td>\n",
       "      <td>aspect_ultra</td>\n",
       "      <td>slope_low</td>\n",
       "      <td>hillshade_9am_max</td>\n",
       "      <td>hillnoon_max</td>\n",
       "      <td>3</td>\n",
       "      <td>0</td>\n",
       "      <td>mid</td>\n",
       "      <td>28</td>\n",
       "      <td>0</td>\n",
       "      <td>1</td>\n",
       "    </tr>\n",
       "    <tr>\n",
       "      <th>405883</th>\n",
       "      <td>elevation_low</td>\n",
       "      <td>aspect_ultra</td>\n",
       "      <td>slope_low</td>\n",
       "      <td>hillshade_9am_max</td>\n",
       "      <td>hillnoon_max</td>\n",
       "      <td>0</td>\n",
       "      <td>1</td>\n",
       "      <td>low</td>\n",
       "      <td>2</td>\n",
       "      <td>2</td>\n",
       "      <td>6</td>\n",
       "    </tr>\n",
       "    <tr>\n",
       "      <th>406025</th>\n",
       "      <td>elevation_high</td>\n",
       "      <td>aspect_low</td>\n",
       "      <td>slope_medium</td>\n",
       "      <td>hillshade_9am_max</td>\n",
       "      <td>hillnoon_max</td>\n",
       "      <td>0</td>\n",
       "      <td>1</td>\n",
       "      <td>low</td>\n",
       "      <td>39</td>\n",
       "      <td>2</td>\n",
       "      <td>1</td>\n",
       "    </tr>\n",
       "  </tbody>\n",
       "</table>\n",
       "<p>12495 rows × 11 columns</p>\n",
       "</div>"
      ],
      "text/plain": [
       "               Elevation         Aspect         Slope      Hillshade_9am  \\\n",
       "0       elevation_medium  aspect_medium     slope_low  hillshade_9am_max   \n",
       "1         elevation_high  aspect_medium     slope_low  hillshade_9am_max   \n",
       "2       elevation_medium     aspect_low     slope_low  hillshade_9am_max   \n",
       "3         elevation_high   aspect_ultra  slope_medium  hillshade_9am_max   \n",
       "4         elevation_high    aspect_high     slope_low  hillshade_9am_max   \n",
       "...                  ...            ...           ...                ...   \n",
       "405630    elevation_high    aspect_high     slope_low  hillshade_9am_max   \n",
       "405688  elevation_medium     aspect_low  slope_medium  hillshade_9am_max   \n",
       "405828    elevation_high   aspect_ultra     slope_low  hillshade_9am_max   \n",
       "405883     elevation_low   aspect_ultra     slope_low  hillshade_9am_max   \n",
       "406025    elevation_high     aspect_low  slope_medium  hillshade_9am_max   \n",
       "\n",
       "       Hillshade_Noon  Horizontal_Distance_To_Hydrology  \\\n",
       "0        hillnoon_max                                 0   \n",
       "1        hillnoon_max                                 1   \n",
       "2        hillnoon_max                                 1   \n",
       "3        hillnoon_max                                 2   \n",
       "4        hillnoon_max                                 2   \n",
       "...               ...                               ...   \n",
       "405630   hillnoon_max                                 2   \n",
       "405688   hillnoon_max                                 1   \n",
       "405828   hillnoon_max                                 3   \n",
       "405883   hillnoon_max                                 0   \n",
       "406025   hillnoon_max                                 0   \n",
       "\n",
       "        Vertical_Distance_To_Hydrology Horizontal_Distance_To_Fire_Points  \\\n",
       "0                                    1                                low   \n",
       "1                                    1                                mid   \n",
       "2                                    1                                low   \n",
       "3                                    1                                low   \n",
       "4                                    1                                mid   \n",
       "...                                ...                                ...   \n",
       "405630                               2                                low   \n",
       "405688                               1                                low   \n",
       "405828                               0                                mid   \n",
       "405883                               1                                low   \n",
       "406025                               1                                low   \n",
       "\n",
       "        Soil_Type  Wilderness  target  \n",
       "0              22           0       2  \n",
       "1              32           2       1  \n",
       "2              10           2       2  \n",
       "3              23           2       1  \n",
       "4              28           0       2  \n",
       "...           ...         ...     ...  \n",
       "405630          3           2       5  \n",
       "405688         19           0       1  \n",
       "405828         28           0       1  \n",
       "405883          2           2       6  \n",
       "406025         39           2       1  \n",
       "\n",
       "[12495 rows x 11 columns]"
      ]
     },
     "execution_count": 8,
     "metadata": {},
     "output_type": "execute_result"
    }
   ],
   "source": [
    "#drop duplicate values in dataframe\n",
    "df.drop_duplicates(inplace=True)\n",
    "df"
   ]
  },
  {
   "cell_type": "code",
   "execution_count": 9,
   "id": "3a94d962",
   "metadata": {},
   "outputs": [],
   "source": [
    "#separating target column to use clustering algorithms\n",
    "xx = df.drop(['target'], axis=1)\n",
    "y = df['target']"
   ]
  },
  {
   "cell_type": "code",
   "execution_count": 10,
   "id": "058f3115",
   "metadata": {},
   "outputs": [
    {
     "data": {
      "text/html": [
       "<div>\n",
       "<style scoped>\n",
       "    .dataframe tbody tr th:only-of-type {\n",
       "        vertical-align: middle;\n",
       "    }\n",
       "\n",
       "    .dataframe tbody tr th {\n",
       "        vertical-align: top;\n",
       "    }\n",
       "\n",
       "    .dataframe thead th {\n",
       "        text-align: right;\n",
       "    }\n",
       "</style>\n",
       "<table border=\"1\" class=\"dataframe\">\n",
       "  <thead>\n",
       "    <tr style=\"text-align: right;\">\n",
       "      <th></th>\n",
       "      <th>Horizontal_Distance_To_Hydrology</th>\n",
       "      <th>Vertical_Distance_To_Hydrology</th>\n",
       "      <th>Soil_Type</th>\n",
       "      <th>Wilderness</th>\n",
       "      <th>Elevation_elevation_high</th>\n",
       "      <th>Elevation_elevation_low</th>\n",
       "      <th>Elevation_elevation_medium</th>\n",
       "      <th>Elevation_elevation_ultra</th>\n",
       "      <th>Aspect_aspect_high</th>\n",
       "      <th>Aspect_aspect_low</th>\n",
       "      <th>...</th>\n",
       "      <th>Slope_slope_low</th>\n",
       "      <th>Slope_slope_medium</th>\n",
       "      <th>Slope_slope_ultra</th>\n",
       "      <th>Hillshade_9am_hillshade_9am_max</th>\n",
       "      <th>Hillshade_9am_hillshade_9am_min</th>\n",
       "      <th>Hillshade_Noon_hillnoon_max</th>\n",
       "      <th>Hillshade_Noon_hillnoon_min</th>\n",
       "      <th>Horizontal_Distance_To_Fire_Points_high</th>\n",
       "      <th>Horizontal_Distance_To_Fire_Points_low</th>\n",
       "      <th>Horizontal_Distance_To_Fire_Points_mid</th>\n",
       "    </tr>\n",
       "  </thead>\n",
       "  <tbody>\n",
       "    <tr>\n",
       "      <th>0</th>\n",
       "      <td>0</td>\n",
       "      <td>1</td>\n",
       "      <td>22</td>\n",
       "      <td>0</td>\n",
       "      <td>0</td>\n",
       "      <td>0</td>\n",
       "      <td>1</td>\n",
       "      <td>0</td>\n",
       "      <td>0</td>\n",
       "      <td>0</td>\n",
       "      <td>...</td>\n",
       "      <td>1</td>\n",
       "      <td>0</td>\n",
       "      <td>0</td>\n",
       "      <td>1</td>\n",
       "      <td>0</td>\n",
       "      <td>1</td>\n",
       "      <td>0</td>\n",
       "      <td>0</td>\n",
       "      <td>1</td>\n",
       "      <td>0</td>\n",
       "    </tr>\n",
       "    <tr>\n",
       "      <th>1</th>\n",
       "      <td>1</td>\n",
       "      <td>1</td>\n",
       "      <td>32</td>\n",
       "      <td>2</td>\n",
       "      <td>1</td>\n",
       "      <td>0</td>\n",
       "      <td>0</td>\n",
       "      <td>0</td>\n",
       "      <td>0</td>\n",
       "      <td>0</td>\n",
       "      <td>...</td>\n",
       "      <td>1</td>\n",
       "      <td>0</td>\n",
       "      <td>0</td>\n",
       "      <td>1</td>\n",
       "      <td>0</td>\n",
       "      <td>1</td>\n",
       "      <td>0</td>\n",
       "      <td>0</td>\n",
       "      <td>0</td>\n",
       "      <td>1</td>\n",
       "    </tr>\n",
       "    <tr>\n",
       "      <th>2</th>\n",
       "      <td>1</td>\n",
       "      <td>1</td>\n",
       "      <td>10</td>\n",
       "      <td>2</td>\n",
       "      <td>0</td>\n",
       "      <td>0</td>\n",
       "      <td>1</td>\n",
       "      <td>0</td>\n",
       "      <td>0</td>\n",
       "      <td>1</td>\n",
       "      <td>...</td>\n",
       "      <td>1</td>\n",
       "      <td>0</td>\n",
       "      <td>0</td>\n",
       "      <td>1</td>\n",
       "      <td>0</td>\n",
       "      <td>1</td>\n",
       "      <td>0</td>\n",
       "      <td>0</td>\n",
       "      <td>1</td>\n",
       "      <td>0</td>\n",
       "    </tr>\n",
       "    <tr>\n",
       "      <th>3</th>\n",
       "      <td>2</td>\n",
       "      <td>1</td>\n",
       "      <td>23</td>\n",
       "      <td>2</td>\n",
       "      <td>1</td>\n",
       "      <td>0</td>\n",
       "      <td>0</td>\n",
       "      <td>0</td>\n",
       "      <td>0</td>\n",
       "      <td>0</td>\n",
       "      <td>...</td>\n",
       "      <td>0</td>\n",
       "      <td>1</td>\n",
       "      <td>0</td>\n",
       "      <td>1</td>\n",
       "      <td>0</td>\n",
       "      <td>1</td>\n",
       "      <td>0</td>\n",
       "      <td>0</td>\n",
       "      <td>1</td>\n",
       "      <td>0</td>\n",
       "    </tr>\n",
       "    <tr>\n",
       "      <th>4</th>\n",
       "      <td>2</td>\n",
       "      <td>1</td>\n",
       "      <td>28</td>\n",
       "      <td>0</td>\n",
       "      <td>1</td>\n",
       "      <td>0</td>\n",
       "      <td>0</td>\n",
       "      <td>0</td>\n",
       "      <td>1</td>\n",
       "      <td>0</td>\n",
       "      <td>...</td>\n",
       "      <td>1</td>\n",
       "      <td>0</td>\n",
       "      <td>0</td>\n",
       "      <td>1</td>\n",
       "      <td>0</td>\n",
       "      <td>1</td>\n",
       "      <td>0</td>\n",
       "      <td>0</td>\n",
       "      <td>0</td>\n",
       "      <td>1</td>\n",
       "    </tr>\n",
       "  </tbody>\n",
       "</table>\n",
       "<p>5 rows × 23 columns</p>\n",
       "</div>"
      ],
      "text/plain": [
       "   Horizontal_Distance_To_Hydrology  Vertical_Distance_To_Hydrology  \\\n",
       "0                                 0                               1   \n",
       "1                                 1                               1   \n",
       "2                                 1                               1   \n",
       "3                                 2                               1   \n",
       "4                                 2                               1   \n",
       "\n",
       "   Soil_Type  Wilderness  Elevation_elevation_high  Elevation_elevation_low  \\\n",
       "0         22           0                         0                        0   \n",
       "1         32           2                         1                        0   \n",
       "2         10           2                         0                        0   \n",
       "3         23           2                         1                        0   \n",
       "4         28           0                         1                        0   \n",
       "\n",
       "   Elevation_elevation_medium  Elevation_elevation_ultra  Aspect_aspect_high  \\\n",
       "0                           1                          0                   0   \n",
       "1                           0                          0                   0   \n",
       "2                           1                          0                   0   \n",
       "3                           0                          0                   0   \n",
       "4                           0                          0                   1   \n",
       "\n",
       "   Aspect_aspect_low  ...  Slope_slope_low  Slope_slope_medium  \\\n",
       "0                  0  ...                1                   0   \n",
       "1                  0  ...                1                   0   \n",
       "2                  1  ...                1                   0   \n",
       "3                  0  ...                0                   1   \n",
       "4                  0  ...                1                   0   \n",
       "\n",
       "   Slope_slope_ultra  Hillshade_9am_hillshade_9am_max  \\\n",
       "0                  0                                1   \n",
       "1                  0                                1   \n",
       "2                  0                                1   \n",
       "3                  0                                1   \n",
       "4                  0                                1   \n",
       "\n",
       "   Hillshade_9am_hillshade_9am_min  Hillshade_Noon_hillnoon_max  \\\n",
       "0                                0                            1   \n",
       "1                                0                            1   \n",
       "2                                0                            1   \n",
       "3                                0                            1   \n",
       "4                                0                            1   \n",
       "\n",
       "   Hillshade_Noon_hillnoon_min  Horizontal_Distance_To_Fire_Points_high  \\\n",
       "0                            0                                        0   \n",
       "1                            0                                        0   \n",
       "2                            0                                        0   \n",
       "3                            0                                        0   \n",
       "4                            0                                        0   \n",
       "\n",
       "   Horizontal_Distance_To_Fire_Points_low  \\\n",
       "0                                       1   \n",
       "1                                       0   \n",
       "2                                       1   \n",
       "3                                       1   \n",
       "4                                       0   \n",
       "\n",
       "   Horizontal_Distance_To_Fire_Points_mid  \n",
       "0                                       0  \n",
       "1                                       1  \n",
       "2                                       0  \n",
       "3                                       0  \n",
       "4                                       1  \n",
       "\n",
       "[5 rows x 23 columns]"
      ]
     },
     "execution_count": 10,
     "metadata": {},
     "output_type": "execute_result"
    }
   ],
   "source": [
    "data = pd.get_dummies(xx)\n",
    "data.head()"
   ]
  },
  {
   "cell_type": "code",
   "execution_count": 11,
   "id": "20db5a19",
   "metadata": {},
   "outputs": [],
   "source": [
    "#dimensionality reduction using tsne into two components tsne1 and tsne2\n",
    "tsne = TSNE(n_components=2)\n",
    "x_emb = tsne.fit_transform(data)"
   ]
  },
  {
   "cell_type": "code",
   "execution_count": 12,
   "id": "909834e6",
   "metadata": {},
   "outputs": [
    {
     "data": {
      "text/plain": [
       "array([[ 61.212624,  -5.79267 ],\n",
       "       [-52.704994, -48.538914],\n",
       "       [ 81.19912 ,  31.19965 ],\n",
       "       ...,\n",
       "       [-58.457397,  40.62539 ],\n",
       "       [-20.506992, -25.107384],\n",
       "       [ 21.910553,  48.30322 ]], dtype=float32)"
      ]
     },
     "execution_count": 12,
     "metadata": {},
     "output_type": "execute_result"
    }
   ],
   "source": [
    "x_emb"
   ]
  },
  {
   "cell_type": "code",
   "execution_count": 13,
   "id": "b90a825a",
   "metadata": {},
   "outputs": [
    {
     "data": {
      "text/html": [
       "<div>\n",
       "<style scoped>\n",
       "    .dataframe tbody tr th:only-of-type {\n",
       "        vertical-align: middle;\n",
       "    }\n",
       "\n",
       "    .dataframe tbody tr th {\n",
       "        vertical-align: top;\n",
       "    }\n",
       "\n",
       "    .dataframe thead th {\n",
       "        text-align: right;\n",
       "    }\n",
       "</style>\n",
       "<table border=\"1\" class=\"dataframe\">\n",
       "  <thead>\n",
       "    <tr style=\"text-align: right;\">\n",
       "      <th></th>\n",
       "      <th>Horizontal_Distance_To_Hydrology</th>\n",
       "      <th>Vertical_Distance_To_Hydrology</th>\n",
       "      <th>Soil_Type</th>\n",
       "      <th>Wilderness</th>\n",
       "      <th>Elevation_elevation_high</th>\n",
       "      <th>Elevation_elevation_low</th>\n",
       "      <th>Elevation_elevation_medium</th>\n",
       "      <th>Elevation_elevation_ultra</th>\n",
       "      <th>Aspect_aspect_high</th>\n",
       "      <th>Aspect_aspect_low</th>\n",
       "      <th>...</th>\n",
       "      <th>Slope_slope_low</th>\n",
       "      <th>Slope_slope_medium</th>\n",
       "      <th>Slope_slope_ultra</th>\n",
       "      <th>Hillshade_9am_hillshade_9am_max</th>\n",
       "      <th>Hillshade_9am_hillshade_9am_min</th>\n",
       "      <th>Hillshade_Noon_hillnoon_max</th>\n",
       "      <th>Hillshade_Noon_hillnoon_min</th>\n",
       "      <th>Horizontal_Distance_To_Fire_Points_high</th>\n",
       "      <th>Horizontal_Distance_To_Fire_Points_low</th>\n",
       "      <th>Horizontal_Distance_To_Fire_Points_mid</th>\n",
       "    </tr>\n",
       "  </thead>\n",
       "  <tbody>\n",
       "    <tr>\n",
       "      <th>0</th>\n",
       "      <td>0</td>\n",
       "      <td>1</td>\n",
       "      <td>22</td>\n",
       "      <td>0</td>\n",
       "      <td>0</td>\n",
       "      <td>0</td>\n",
       "      <td>1</td>\n",
       "      <td>0</td>\n",
       "      <td>0</td>\n",
       "      <td>0</td>\n",
       "      <td>...</td>\n",
       "      <td>1</td>\n",
       "      <td>0</td>\n",
       "      <td>0</td>\n",
       "      <td>1</td>\n",
       "      <td>0</td>\n",
       "      <td>1</td>\n",
       "      <td>0</td>\n",
       "      <td>0</td>\n",
       "      <td>1</td>\n",
       "      <td>0</td>\n",
       "    </tr>\n",
       "    <tr>\n",
       "      <th>1</th>\n",
       "      <td>1</td>\n",
       "      <td>1</td>\n",
       "      <td>32</td>\n",
       "      <td>2</td>\n",
       "      <td>1</td>\n",
       "      <td>0</td>\n",
       "      <td>0</td>\n",
       "      <td>0</td>\n",
       "      <td>0</td>\n",
       "      <td>0</td>\n",
       "      <td>...</td>\n",
       "      <td>1</td>\n",
       "      <td>0</td>\n",
       "      <td>0</td>\n",
       "      <td>1</td>\n",
       "      <td>0</td>\n",
       "      <td>1</td>\n",
       "      <td>0</td>\n",
       "      <td>0</td>\n",
       "      <td>0</td>\n",
       "      <td>1</td>\n",
       "    </tr>\n",
       "    <tr>\n",
       "      <th>2</th>\n",
       "      <td>1</td>\n",
       "      <td>1</td>\n",
       "      <td>10</td>\n",
       "      <td>2</td>\n",
       "      <td>0</td>\n",
       "      <td>0</td>\n",
       "      <td>1</td>\n",
       "      <td>0</td>\n",
       "      <td>0</td>\n",
       "      <td>1</td>\n",
       "      <td>...</td>\n",
       "      <td>1</td>\n",
       "      <td>0</td>\n",
       "      <td>0</td>\n",
       "      <td>1</td>\n",
       "      <td>0</td>\n",
       "      <td>1</td>\n",
       "      <td>0</td>\n",
       "      <td>0</td>\n",
       "      <td>1</td>\n",
       "      <td>0</td>\n",
       "    </tr>\n",
       "    <tr>\n",
       "      <th>3</th>\n",
       "      <td>2</td>\n",
       "      <td>1</td>\n",
       "      <td>23</td>\n",
       "      <td>2</td>\n",
       "      <td>1</td>\n",
       "      <td>0</td>\n",
       "      <td>0</td>\n",
       "      <td>0</td>\n",
       "      <td>0</td>\n",
       "      <td>0</td>\n",
       "      <td>...</td>\n",
       "      <td>0</td>\n",
       "      <td>1</td>\n",
       "      <td>0</td>\n",
       "      <td>1</td>\n",
       "      <td>0</td>\n",
       "      <td>1</td>\n",
       "      <td>0</td>\n",
       "      <td>0</td>\n",
       "      <td>1</td>\n",
       "      <td>0</td>\n",
       "    </tr>\n",
       "    <tr>\n",
       "      <th>4</th>\n",
       "      <td>2</td>\n",
       "      <td>1</td>\n",
       "      <td>28</td>\n",
       "      <td>0</td>\n",
       "      <td>1</td>\n",
       "      <td>0</td>\n",
       "      <td>0</td>\n",
       "      <td>0</td>\n",
       "      <td>1</td>\n",
       "      <td>0</td>\n",
       "      <td>...</td>\n",
       "      <td>1</td>\n",
       "      <td>0</td>\n",
       "      <td>0</td>\n",
       "      <td>1</td>\n",
       "      <td>0</td>\n",
       "      <td>1</td>\n",
       "      <td>0</td>\n",
       "      <td>0</td>\n",
       "      <td>0</td>\n",
       "      <td>1</td>\n",
       "    </tr>\n",
       "    <tr>\n",
       "      <th>...</th>\n",
       "      <td>...</td>\n",
       "      <td>...</td>\n",
       "      <td>...</td>\n",
       "      <td>...</td>\n",
       "      <td>...</td>\n",
       "      <td>...</td>\n",
       "      <td>...</td>\n",
       "      <td>...</td>\n",
       "      <td>...</td>\n",
       "      <td>...</td>\n",
       "      <td>...</td>\n",
       "      <td>...</td>\n",
       "      <td>...</td>\n",
       "      <td>...</td>\n",
       "      <td>...</td>\n",
       "      <td>...</td>\n",
       "      <td>...</td>\n",
       "      <td>...</td>\n",
       "      <td>...</td>\n",
       "      <td>...</td>\n",
       "      <td>...</td>\n",
       "    </tr>\n",
       "    <tr>\n",
       "      <th>405630</th>\n",
       "      <td>2</td>\n",
       "      <td>2</td>\n",
       "      <td>3</td>\n",
       "      <td>2</td>\n",
       "      <td>1</td>\n",
       "      <td>0</td>\n",
       "      <td>0</td>\n",
       "      <td>0</td>\n",
       "      <td>1</td>\n",
       "      <td>0</td>\n",
       "      <td>...</td>\n",
       "      <td>1</td>\n",
       "      <td>0</td>\n",
       "      <td>0</td>\n",
       "      <td>1</td>\n",
       "      <td>0</td>\n",
       "      <td>1</td>\n",
       "      <td>0</td>\n",
       "      <td>0</td>\n",
       "      <td>1</td>\n",
       "      <td>0</td>\n",
       "    </tr>\n",
       "    <tr>\n",
       "      <th>405688</th>\n",
       "      <td>1</td>\n",
       "      <td>1</td>\n",
       "      <td>19</td>\n",
       "      <td>0</td>\n",
       "      <td>0</td>\n",
       "      <td>0</td>\n",
       "      <td>1</td>\n",
       "      <td>0</td>\n",
       "      <td>0</td>\n",
       "      <td>1</td>\n",
       "      <td>...</td>\n",
       "      <td>0</td>\n",
       "      <td>1</td>\n",
       "      <td>0</td>\n",
       "      <td>1</td>\n",
       "      <td>0</td>\n",
       "      <td>1</td>\n",
       "      <td>0</td>\n",
       "      <td>0</td>\n",
       "      <td>1</td>\n",
       "      <td>0</td>\n",
       "    </tr>\n",
       "    <tr>\n",
       "      <th>405828</th>\n",
       "      <td>3</td>\n",
       "      <td>0</td>\n",
       "      <td>28</td>\n",
       "      <td>0</td>\n",
       "      <td>1</td>\n",
       "      <td>0</td>\n",
       "      <td>0</td>\n",
       "      <td>0</td>\n",
       "      <td>0</td>\n",
       "      <td>0</td>\n",
       "      <td>...</td>\n",
       "      <td>1</td>\n",
       "      <td>0</td>\n",
       "      <td>0</td>\n",
       "      <td>1</td>\n",
       "      <td>0</td>\n",
       "      <td>1</td>\n",
       "      <td>0</td>\n",
       "      <td>0</td>\n",
       "      <td>0</td>\n",
       "      <td>1</td>\n",
       "    </tr>\n",
       "    <tr>\n",
       "      <th>405883</th>\n",
       "      <td>0</td>\n",
       "      <td>1</td>\n",
       "      <td>2</td>\n",
       "      <td>2</td>\n",
       "      <td>0</td>\n",
       "      <td>1</td>\n",
       "      <td>0</td>\n",
       "      <td>0</td>\n",
       "      <td>0</td>\n",
       "      <td>0</td>\n",
       "      <td>...</td>\n",
       "      <td>1</td>\n",
       "      <td>0</td>\n",
       "      <td>0</td>\n",
       "      <td>1</td>\n",
       "      <td>0</td>\n",
       "      <td>1</td>\n",
       "      <td>0</td>\n",
       "      <td>0</td>\n",
       "      <td>1</td>\n",
       "      <td>0</td>\n",
       "    </tr>\n",
       "    <tr>\n",
       "      <th>406025</th>\n",
       "      <td>0</td>\n",
       "      <td>1</td>\n",
       "      <td>39</td>\n",
       "      <td>2</td>\n",
       "      <td>1</td>\n",
       "      <td>0</td>\n",
       "      <td>0</td>\n",
       "      <td>0</td>\n",
       "      <td>0</td>\n",
       "      <td>1</td>\n",
       "      <td>...</td>\n",
       "      <td>0</td>\n",
       "      <td>1</td>\n",
       "      <td>0</td>\n",
       "      <td>1</td>\n",
       "      <td>0</td>\n",
       "      <td>1</td>\n",
       "      <td>0</td>\n",
       "      <td>0</td>\n",
       "      <td>1</td>\n",
       "      <td>0</td>\n",
       "    </tr>\n",
       "  </tbody>\n",
       "</table>\n",
       "<p>12495 rows × 23 columns</p>\n",
       "</div>"
      ],
      "text/plain": [
       "        Horizontal_Distance_To_Hydrology  Vertical_Distance_To_Hydrology  \\\n",
       "0                                      0                               1   \n",
       "1                                      1                               1   \n",
       "2                                      1                               1   \n",
       "3                                      2                               1   \n",
       "4                                      2                               1   \n",
       "...                                  ...                             ...   \n",
       "405630                                 2                               2   \n",
       "405688                                 1                               1   \n",
       "405828                                 3                               0   \n",
       "405883                                 0                               1   \n",
       "406025                                 0                               1   \n",
       "\n",
       "        Soil_Type  Wilderness  Elevation_elevation_high  \\\n",
       "0              22           0                         0   \n",
       "1              32           2                         1   \n",
       "2              10           2                         0   \n",
       "3              23           2                         1   \n",
       "4              28           0                         1   \n",
       "...           ...         ...                       ...   \n",
       "405630          3           2                         1   \n",
       "405688         19           0                         0   \n",
       "405828         28           0                         1   \n",
       "405883          2           2                         0   \n",
       "406025         39           2                         1   \n",
       "\n",
       "        Elevation_elevation_low  Elevation_elevation_medium  \\\n",
       "0                             0                           1   \n",
       "1                             0                           0   \n",
       "2                             0                           1   \n",
       "3                             0                           0   \n",
       "4                             0                           0   \n",
       "...                         ...                         ...   \n",
       "405630                        0                           0   \n",
       "405688                        0                           1   \n",
       "405828                        0                           0   \n",
       "405883                        1                           0   \n",
       "406025                        0                           0   \n",
       "\n",
       "        Elevation_elevation_ultra  Aspect_aspect_high  Aspect_aspect_low  ...  \\\n",
       "0                               0                   0                  0  ...   \n",
       "1                               0                   0                  0  ...   \n",
       "2                               0                   0                  1  ...   \n",
       "3                               0                   0                  0  ...   \n",
       "4                               0                   1                  0  ...   \n",
       "...                           ...                 ...                ...  ...   \n",
       "405630                          0                   1                  0  ...   \n",
       "405688                          0                   0                  1  ...   \n",
       "405828                          0                   0                  0  ...   \n",
       "405883                          0                   0                  0  ...   \n",
       "406025                          0                   0                  1  ...   \n",
       "\n",
       "        Slope_slope_low  Slope_slope_medium  Slope_slope_ultra  \\\n",
       "0                     1                   0                  0   \n",
       "1                     1                   0                  0   \n",
       "2                     1                   0                  0   \n",
       "3                     0                   1                  0   \n",
       "4                     1                   0                  0   \n",
       "...                 ...                 ...                ...   \n",
       "405630                1                   0                  0   \n",
       "405688                0                   1                  0   \n",
       "405828                1                   0                  0   \n",
       "405883                1                   0                  0   \n",
       "406025                0                   1                  0   \n",
       "\n",
       "        Hillshade_9am_hillshade_9am_max  Hillshade_9am_hillshade_9am_min  \\\n",
       "0                                     1                                0   \n",
       "1                                     1                                0   \n",
       "2                                     1                                0   \n",
       "3                                     1                                0   \n",
       "4                                     1                                0   \n",
       "...                                 ...                              ...   \n",
       "405630                                1                                0   \n",
       "405688                                1                                0   \n",
       "405828                                1                                0   \n",
       "405883                                1                                0   \n",
       "406025                                1                                0   \n",
       "\n",
       "        Hillshade_Noon_hillnoon_max  Hillshade_Noon_hillnoon_min  \\\n",
       "0                                 1                            0   \n",
       "1                                 1                            0   \n",
       "2                                 1                            0   \n",
       "3                                 1                            0   \n",
       "4                                 1                            0   \n",
       "...                             ...                          ...   \n",
       "405630                            1                            0   \n",
       "405688                            1                            0   \n",
       "405828                            1                            0   \n",
       "405883                            1                            0   \n",
       "406025                            1                            0   \n",
       "\n",
       "        Horizontal_Distance_To_Fire_Points_high  \\\n",
       "0                                             0   \n",
       "1                                             0   \n",
       "2                                             0   \n",
       "3                                             0   \n",
       "4                                             0   \n",
       "...                                         ...   \n",
       "405630                                        0   \n",
       "405688                                        0   \n",
       "405828                                        0   \n",
       "405883                                        0   \n",
       "406025                                        0   \n",
       "\n",
       "        Horizontal_Distance_To_Fire_Points_low  \\\n",
       "0                                            1   \n",
       "1                                            0   \n",
       "2                                            1   \n",
       "3                                            1   \n",
       "4                                            0   \n",
       "...                                        ...   \n",
       "405630                                       1   \n",
       "405688                                       1   \n",
       "405828                                       0   \n",
       "405883                                       1   \n",
       "406025                                       1   \n",
       "\n",
       "        Horizontal_Distance_To_Fire_Points_mid  \n",
       "0                                            0  \n",
       "1                                            1  \n",
       "2                                            0  \n",
       "3                                            0  \n",
       "4                                            1  \n",
       "...                                        ...  \n",
       "405630                                       0  \n",
       "405688                                       0  \n",
       "405828                                       1  \n",
       "405883                                       0  \n",
       "406025                                       0  \n",
       "\n",
       "[12495 rows x 23 columns]"
      ]
     },
     "execution_count": 13,
     "metadata": {},
     "output_type": "execute_result"
    }
   ],
   "source": [
    "data"
   ]
  },
  {
   "cell_type": "markdown",
   "id": "68246738",
   "metadata": {},
   "source": [
    "# Q1  (1) Representative object of each cluster"
   ]
  },
  {
   "cell_type": "markdown",
   "id": "2933aa13",
   "metadata": {},
   "source": [
    "#  K-means Clustering"
   ]
  },
  {
   "cell_type": "code",
   "execution_count": 14,
   "id": "34011661",
   "metadata": {},
   "outputs": [],
   "source": [
    "#compute k-means clustering\n",
    "km = KMeans(n_clusters=7)\n",
    "km.fit_predict(data)\n",
    "y_km = km.labels_"
   ]
  },
  {
   "cell_type": "code",
   "execution_count": 15,
   "id": "e7f43d9f",
   "metadata": {},
   "outputs": [
    {
     "name": "stdout",
     "output_type": "stream",
     "text": [
      "[[ 1.84917770e+00  1.63056558e+00  3.14384276e+01  1.80144404e+00\n",
      "   7.14400321e-01  1.66533454e-16  1.54432411e-01  1.31167268e-01\n",
      "   2.12996390e-01  2.71159246e-01  2.39069394e-01  2.76774970e-01\n",
      "   7.54111512e-02  5.18652226e-01  4.02326514e-01  3.61010830e-03\n",
      "   9.48656237e-01  5.13437625e-02  9.90373045e-01  9.62695548e-03\n",
      "   4.01123145e-04  6.85118331e-01  3.14480546e-01]\n",
      " [ 1.25775194e+00  1.47093023e+00  1.03861434e+01  1.81637597e+00\n",
      "   3.48352713e-01  1.26937984e-01  5.24709302e-01 -1.80411242e-16\n",
      "   1.95736434e-01  2.88759690e-01  2.24321705e-01  2.91182171e-01\n",
      "   1.16279070e-01  4.89341085e-01  3.90503876e-01  3.87596899e-03\n",
      "   9.18604651e-01  8.13953488e-02  9.84496124e-01  1.55038760e-02\n",
      "   6.87984496e-02  7.83914729e-01  1.47286822e-01]\n",
      " [ 8.22143698e-01  1.03062426e+00  1.73345112e+01  9.41107185e-01\n",
      "   5.52414605e-01  6.36042403e-02  3.75736160e-01  8.24499411e-03\n",
      "   2.03769140e-01  2.93286219e-01  2.54416961e-01  2.48527680e-01\n",
      "   1.64899882e-02  7.53828033e-01  2.29681979e-01 -4.33680869e-19\n",
      "   9.90577150e-01  9.42285041e-03  1.00000000e+00 -5.20417043e-18\n",
      "   1.88457008e-01  5.34746761e-01  2.76796231e-01]\n",
      " [ 1.74327752e+00  1.52663623e+00  3.79766616e+01  9.75646880e-01\n",
      "   4.81988838e-01  1.38777878e-16 -4.99600361e-16  5.18011162e-01\n",
      "   1.61339422e-01  3.06443430e-01  2.63318113e-01  2.68899036e-01\n",
      "   7.25520041e-02  5.35768645e-01  3.89649924e-01  2.02942669e-03\n",
      "   9.69051243e-01  3.09487570e-02  9.91882293e-01  8.11770675e-03\n",
      "   1.72501268e-02  6.31659056e-01  3.51090817e-01]\n",
      " [ 9.23988842e-01  1.46443515e+00  2.55299861e+00  2.60111576e+00\n",
      "   6.48535565e-02  3.89818689e-01  5.45327755e-01  1.24900090e-16\n",
      "   2.48953975e-01  2.55927476e-01  3.04044630e-01  1.91073919e-01\n",
      "   1.28312413e-01  4.40027894e-01  4.30962343e-01  6.97350070e-04\n",
      "   9.58158996e-01  4.18410042e-02  9.96513250e-01  3.48675035e-03\n",
      "   4.18410042e-03  9.53974895e-01  4.18410042e-02]\n",
      " [ 1.53017751e+00  1.46153846e+00  2.81923077e+01  2.44970414e-01\n",
      "   6.82248521e-01  9.71445147e-17  3.02366864e-01  1.53846154e-02\n",
      "   1.92307692e-01  2.89349112e-01  2.62721893e-01  2.55621302e-01\n",
      "   1.43786982e-01  4.19526627e-01  4.31952663e-01  4.73372781e-03\n",
      "   9.34911243e-01  6.50887574e-02  9.84023669e-01  1.59763314e-02\n",
      "   1.54437870e-01  5.29585799e-01  3.15976331e-01]\n",
      " [ 1.41123370e+00  1.26328987e+00  2.21850552e+01  1.09879639e+00\n",
      "   8.10932798e-01  1.38777878e-16  1.72016048e-01  1.70511535e-02\n",
      "   1.79037111e-01  3.09929789e-01  2.33701103e-01  2.77331996e-01\n",
      "   3.86158475e-02  5.69709127e-01  3.87662989e-01  4.01203611e-03\n",
      "   9.67903711e-01  3.20962889e-02  9.96489468e-01  3.51053159e-03\n",
      "   5.16549649e-02  6.08324975e-01  3.40020060e-01]]\n"
     ]
    }
   ],
   "source": [
    "#attribute1: coordinate of cluster centres\n",
    "print(km.cluster_centers_)"
   ]
  },
  {
   "cell_type": "code",
   "execution_count": 16,
   "id": "d43f29f6",
   "metadata": {},
   "outputs": [
    {
     "name": "stdout",
     "output_type": "stream",
     "text": [
      "[6 0 1 ... 5 4 3]\n"
     ]
    }
   ],
   "source": [
    "#attribute2: cluster label of each point\n",
    "print(km.labels_)"
   ]
  },
  {
   "cell_type": "markdown",
   "id": "dae58d88",
   "metadata": {},
   "source": [
    "# Hierarchical Clustering: Agglomerative Clustering"
   ]
  },
  {
   "cell_type": "code",
   "execution_count": 17,
   "id": "7e0679a6",
   "metadata": {},
   "outputs": [],
   "source": [
    "#compute agglomerative clustering\n",
    "am = AgglomerativeClustering(n_clusters=7,compute_distances=True)\n",
    "am.fit_predict(data)\n",
    "y_am = am.labels_"
   ]
  },
  {
   "cell_type": "code",
   "execution_count": 18,
   "id": "69c92710",
   "metadata": {},
   "outputs": [
    {
     "name": "stdout",
     "output_type": "stream",
     "text": [
      "[6 2 0 ... 5 1 3]\n"
     ]
    }
   ],
   "source": [
    "#attribute1: cluster label of each point\n",
    "print(am.labels_)"
   ]
  },
  {
   "cell_type": "code",
   "execution_count": 19,
   "id": "04f8cedf",
   "metadata": {},
   "outputs": [
    {
     "name": "stdout",
     "output_type": "stream",
     "text": [
      "[   0.            0.            0.         ...  415.66962493  736.98942893\n",
      " 1543.53923333]\n"
     ]
    }
   ],
   "source": [
    "#attribute2: distance between nodes in corresponding place in children(of non-leaf node)\n",
    "print(am.distances_)"
   ]
  },
  {
   "cell_type": "code",
   "execution_count": 20,
   "id": "92bc995a",
   "metadata": {},
   "outputs": [
    {
     "name": "stdout",
     "output_type": "stream",
     "text": [
      "12495\n"
     ]
    },
    {
     "data": {
      "text/plain": [
       "array([[    0,  2643],\n",
       "       [    1,  1045],\n",
       "       [    2,  1381],\n",
       "       ...,\n",
       "       [24978, 24984],\n",
       "       [24983, 24986],\n",
       "       [24985, 24987]], dtype=int64)"
      ]
     },
     "execution_count": 20,
     "metadata": {},
     "output_type": "execute_result"
    }
   ],
   "source": [
    "#attribute3: number of leaves in hierarchical tree \n",
    "print(am.n_leaves_)\n",
    "#children of each non-leaf node\n",
    "am.children_"
   ]
  },
  {
   "cell_type": "markdown",
   "id": "719305fb",
   "metadata": {},
   "source": [
    "# BIRCH Clustering"
   ]
  },
  {
   "cell_type": "code",
   "execution_count": 21,
   "id": "9b26ab13",
   "metadata": {},
   "outputs": [],
   "source": [
    "#compute BIRCH clustering\n",
    "br = Birch(n_clusters=7)\n",
    "br.fit_predict(data)\n",
    "y_br = br.labels_"
   ]
  },
  {
   "cell_type": "code",
   "execution_count": 22,
   "id": "bb04c835",
   "metadata": {},
   "outputs": [
    {
     "name": "stdout",
     "output_type": "stream",
     "text": [
      "[6 2 0 ... 5 4 1]\n"
     ]
    }
   ],
   "source": [
    "##attribute1: cluster label of each point\n",
    "print(br.labels_)"
   ]
  },
  {
   "cell_type": "code",
   "execution_count": 23,
   "id": "0153e67f",
   "metadata": {},
   "outputs": [
    {
     "name": "stdout",
     "output_type": "stream",
     "text": [
      "[[ 0.33333333  1.         37.         ...  0.          1.\n",
      "   0.        ]\n",
      " [ 1.33333333  1.         37.         ...  0.          0.\n",
      "   1.        ]\n",
      " [ 0.33333333  1.         37.         ...  0.          0.\n",
      "   1.        ]\n",
      " ...\n",
      " [ 2.          1.          5.         ...  0.          1.\n",
      "   0.        ]\n",
      " [ 2.          1.          5.         ...  0.          1.\n",
      "   0.        ]\n",
      " [ 2.          3.          4.33333333 ...  0.          1.\n",
      "   0.        ]]\n"
     ]
    }
   ],
   "source": [
    "#attribute2: centroid of all subclusters\n",
    "print(br.subcluster_centers_)"
   ]
  },
  {
   "cell_type": "markdown",
   "id": "735ced39",
   "metadata": {},
   "source": [
    "# Gaussian Mixture Clustering"
   ]
  },
  {
   "cell_type": "code",
   "execution_count": 66,
   "id": "f232d0cf",
   "metadata": {},
   "outputs": [],
   "source": [
    "#compute Gaussian mixture clustering (Gaussian Model)\n",
    "gmm = GaussianMixture(n_components = 7)\n",
    "gmm.fit(data)\n",
    "y_gmm = gmm.predict(data)"
   ]
  },
  {
   "cell_type": "code",
   "execution_count": 25,
   "id": "db72705e",
   "metadata": {},
   "outputs": [
    {
     "name": "stdout",
     "output_type": "stream",
     "text": [
      "[[1.97216063e+00 1.64810217e+00 3.56473331e+01 1.08969405e+00\n",
      "  5.09721771e-02 0.00000000e+00 0.00000000e+00 9.49027823e-01\n",
      "  1.86816510e-01 2.67657117e-01 2.97569907e-01 2.47956466e-01\n",
      "  9.78461354e-02 5.56373505e-01 3.45780359e-01 0.00000000e+00\n",
      "  9.78940685e-01 2.10593146e-02 1.00000000e+00 0.00000000e+00\n",
      "  0.00000000e+00 6.01231667e-01 3.98768333e-01]\n",
      " [5.82260857e-01 1.40277097e+00 2.23143904e+01 1.80571404e+00\n",
      "  5.32272180e-01 1.36719775e-01 3.31008045e-01 0.00000000e+00\n",
      "  3.59788839e-02 3.74188238e-01 3.73945561e-01 2.15887318e-01\n",
      "  7.98518251e-01 0.00000000e+00 0.00000000e+00 2.01481749e-01\n",
      "  7.12155081e-01 2.87844919e-01 4.96295628e-01 5.03704372e-01\n",
      "  1.65502865e-01 8.34497135e-01 0.00000000e+00]\n",
      " [1.59326911e+00 1.36271344e+00 2.42001937e+01 9.92921909e-01\n",
      "  8.07737025e-01 0.00000000e+00 1.92262975e-01 0.00000000e+00\n",
      "  1.71220166e-01 2.42543636e-01 3.54130621e-01 2.32105577e-01\n",
      "  0.00000000e+00 8.28691685e-01 1.71308315e-01 0.00000000e+00\n",
      "  1.00000000e+00 0.00000000e+00 1.00000000e+00 0.00000000e+00\n",
      "  1.22265781e-01 5.41825852e-01 3.35908366e-01]\n",
      " [7.79661018e-01 1.37288135e+00 3.07457627e+01 4.74576269e-01\n",
      "  4.57627116e-01 0.00000000e+00 2.37288140e-01 3.05084744e-01\n",
      "  0.00000000e+00 6.10169494e-01 1.18644067e-01 2.71186439e-01\n",
      "  5.42372878e-01 1.01694915e-01 1.86440683e-01 1.69491525e-01\n",
      "  7.11864409e-01 2.88135591e-01 3.05084750e-01 6.94915250e-01\n",
      "  3.05084750e-01 5.08474574e-01 1.86440677e-01]\n",
      " [8.30203787e-01 1.49412870e+00 5.38314541e+00 3.00000000e+00\n",
      "  0.00000000e+00 5.81069289e-01 4.18930711e-01 0.00000000e+00\n",
      "  1.90222317e-01 2.99641444e-01 2.18719607e-01 2.91416632e-01\n",
      "  1.44924720e-01 4.10461642e-01 4.44613638e-01 0.00000000e+00\n",
      "  9.22943927e-01 7.70560732e-02 1.00000000e+00 0.00000000e+00\n",
      "  0.00000000e+00 1.00000000e+00 0.00000000e+00]\n",
      " [9.38770078e-01 1.33587857e+00 1.37108357e+01 2.00000000e+00\n",
      "  0.00000000e+00 5.01703771e-02 9.49829623e-01 0.00000000e+00\n",
      "  2.88263740e-01 3.65645944e-01 3.40137898e-01 5.95241762e-03\n",
      "  8.84324802e-02 4.87247442e-01 4.24320078e-01 0.00000000e+00\n",
      "  9.99149655e-01 8.50345375e-04 1.00000000e+00 0.00000000e+00\n",
      "  0.00000000e+00 1.00000000e+00 0.00000000e+00]\n",
      " [1.45341496e+00 1.52946030e+00 2.55124278e+01 1.25027556e+00\n",
      "  7.79484660e-01 0.00000000e+00 2.20515340e-01 0.00000000e+00\n",
      "  2.30521138e-01 3.37369858e-01 4.94656766e-03 4.27162436e-01\n",
      "  1.76387835e-01 0.00000000e+00 8.23612165e-01 0.00000000e+00\n",
      "  8.57147629e-01 1.42852371e-01 1.00000000e+00 0.00000000e+00\n",
      "  0.00000000e+00 6.96401988e-01 3.03598012e-01]]\n"
     ]
    }
   ],
   "source": [
    "#attribute1: mean of each mixture component\n",
    "print(gmm.means_)"
   ]
  },
  {
   "cell_type": "code",
   "execution_count": 26,
   "id": "83e1fba6",
   "metadata": {},
   "outputs": [
    {
     "name": "stdout",
     "output_type": "stream",
     "text": [
      "[0.11780974 0.01112208 0.43594634 0.00472189 0.10977265 0.09411707\n",
      " 0.22651023]\n"
     ]
    }
   ],
   "source": [
    "#attribute2: weights of each mixture component\n",
    "print(gmm.weights_)"
   ]
  },
  {
   "cell_type": "markdown",
   "id": "a2dc89df",
   "metadata": {},
   "source": [
    "# Q1 (2) Visualization of clusters"
   ]
  },
  {
   "cell_type": "code",
   "execution_count": 27,
   "id": "d8b9e717",
   "metadata": {},
   "outputs": [
    {
     "data": {
      "text/plain": [
       "<seaborn.axisgrid.FacetGrid at 0x1c1a3216b80>"
      ]
     },
     "execution_count": 27,
     "metadata": {},
     "output_type": "execute_result"
    },
    {
     "data": {
      "image/png": "[encoded data removed]",
      "text/plain": [
       "<Figure size 475.5x432 with 1 Axes>"
      ]
     },
     "metadata": {
      "needs_background": "light"
     },
     "output_type": "display_data"
    }
   ],
   "source": [
    "#for K-means clustering\n",
    "df1 = pd.DataFrame()\n",
    "df1['tsne-1'] = x_emb[:,0]\n",
    "df1['tsne-2'] = x_emb[:,1]\n",
    "df1['Cluster'] = y_km\n",
    "sns.FacetGrid(df1, hue=\"Cluster\", height=6).map(plt.scatter, \"tsne-1\",\"tsne-2\").add_legend()"
   ]
  },
  {
   "cell_type": "code",
   "execution_count": 28,
   "id": "23fd9d6f",
   "metadata": {},
   "outputs": [
    {
     "data": {
      "text/plain": [
       "<seaborn.axisgrid.FacetGrid at 0x1c1a49a4c40>"
      ]
     },
     "execution_count": 28,
     "metadata": {},
     "output_type": "execute_result"
    },
    {
     "data": {
      "image/png": "[encoded data removed]",
      "text/plain": [
       "<Figure size 475.5x432 with 1 Axes>"
      ]
     },
     "metadata": {
      "needs_background": "light"
     },
     "output_type": "display_data"
    }
   ],
   "source": [
    "#for agglomerative clustering\n",
    "df2 = pd.DataFrame()\n",
    "df2['tsne-1'] = x_emb[:,0]\n",
    "df2['tsne-2'] = x_emb[:,1]\n",
    "df2['Cluster'] = y_am\n",
    "sns.FacetGrid(df2, hue=\"Cluster\",height=6).map(plt.scatter, \"tsne-1\",\"tsne-2\").add_legend()"
   ]
  },
  {
   "cell_type": "code",
   "execution_count": 29,
   "id": "55d66ce6",
   "metadata": {},
   "outputs": [
    {
     "data": {
      "text/plain": [
       "<seaborn.axisgrid.FacetGrid at 0x1c1a4a355e0>"
      ]
     },
     "execution_count": 29,
     "metadata": {},
     "output_type": "execute_result"
    },
    {
     "data": {
      "image/png": "[encoded data removed]",
      "text/plain": [
       "<Figure size 475.5x432 with 1 Axes>"
      ]
     },
     "metadata": {
      "needs_background": "light"
     },
     "output_type": "display_data"
    }
   ],
   "source": [
    "#for BIRCH clustering\n",
    "df3 = pd.DataFrame()\n",
    "df3['tsne-1'] = x_emb[:,0]\n",
    "df3['tsne-2'] = x_emb[:,1]\n",
    "df3['Cluster'] = y_br\n",
    "sns.FacetGrid(df3, hue=\"Cluster\", height=6).map(plt.scatter, \"tsne-1\",\"tsne-2\").add_legend()"
   ]
  },
  {
   "cell_type": "code",
   "execution_count": 30,
   "id": "3a62f0ff",
   "metadata": {},
   "outputs": [
    {
     "data": {
      "text/plain": [
       "<seaborn.axisgrid.FacetGrid at 0x1c1a5567e20>"
      ]
     },
     "execution_count": 30,
     "metadata": {},
     "output_type": "execute_result"
    },
    {
     "data": {
      "image/png": "[encoded data removed]",
      "text/plain": [
       "<Figure size 475.5x432 with 1 Axes>"
      ]
     },
     "metadata": {
      "needs_background": "light"
     },
     "output_type": "display_data"
    }
   ],
   "source": [
    "df4 = pd.DataFrame()\n",
    "df4['tsne-1'] = x_emb[:,0]\n",
    "df4['tsne-2'] = x_emb[:,1]\n",
    "df4['Cluster'] = y_gmm\n",
    "sns.FacetGrid(df4, hue=\"Cluster\", height=6).map(plt.scatter, \"tsne-1\",\"tsne-2\").add_legend()"
   ]
  },
  {
   "cell_type": "markdown",
   "id": "4f5756f8",
   "metadata": {},
   "source": [
    "# Q1 (3) Cluster distribution with true label count"
   ]
  },
  {
   "cell_type": "code",
   "execution_count": 77,
   "id": "ae05cd66",
   "metadata": {},
   "outputs": [],
   "source": [
    "#assign weights to each label of y(target)\n",
    "def weight(y):\n",
    "    length=len(y)\n",
    "    weights={}\n",
    "    for i in range(1,8):\n",
    "        weights[i]= (length/(7*y.value_counts()[i]))%7\n",
    "        \n",
    "    return weights"
   ]
  },
  {
   "cell_type": "code",
   "execution_count": 78,
   "id": "c6a5499d",
   "metadata": {},
   "outputs": [
    {
     "data": {
      "text/plain": [
       "{1: 0.4340953307392996,\n",
       " 2: 0.3789004457652303,\n",
       " 3: 1.6903409090909092,\n",
       " 4: 3.1999999999999993,\n",
       " 5: 2.9899497487437188,\n",
       " 6: 2.6020408163265305,\n",
       " 7: 1.5414507772020725}"
      ]
     },
     "execution_count": 78,
     "metadata": {},
     "output_type": "execute_result"
    }
   ],
   "source": [
    "#print the calculated weights\n",
    "weights=weight(y)\n",
    "weights"
   ]
  },
  {
   "cell_type": "code",
   "execution_count": 79,
   "id": "482e4067",
   "metadata": {},
   "outputs": [],
   "source": [
    "#function to check labels in y\n",
    "def check_label(y):\n",
    "    count=[0 for _ in range(8)]\n",
    "    for i in range(1,8):\n",
    "        try:\n",
    "            c=np.bincount(y)[i]\n",
    "        except:\n",
    "            c=0\n",
    "        count[i]=c*weights[i]\n",
    "    return np.argmax(count)"
   ]
  },
  {
   "cell_type": "code",
   "execution_count": 80,
   "id": "58632fd2",
   "metadata": {},
   "outputs": [],
   "source": [
    "#function for true label count\n",
    "check_y=check_label(y)\n",
    "def tl_count(check_y,y):\n",
    "    for i in range(7):\n",
    "        print(f\"Cluster:{i}\")\n",
    "        add=np.where(check_y==i)[0].tolist()\n",
    "        add_y=y.iloc[add]\n",
    "        print(add_y.value_counts())"
   ]
  },
  {
   "cell_type": "code",
   "execution_count": 81,
   "id": "72918e09",
   "metadata": {},
   "outputs": [
    {
     "data": {
      "text/plain": [
       "2    4711\n",
       "1    4112\n",
       "7    1158\n",
       "3    1056\n",
       "6     686\n",
       "5     597\n",
       "4     175\n",
       "Name: target, dtype: int64"
      ]
     },
     "execution_count": 81,
     "metadata": {},
     "output_type": "execute_result"
    }
   ],
   "source": [
    "#value count of each label present in target column\n",
    "y.value_counts()"
   ]
  },
  {
   "cell_type": "markdown",
   "id": "87e33f09",
   "metadata": {},
   "source": [
    "### K-means clustering distribution with true label count "
   ]
  },
  {
   "cell_type": "code",
   "execution_count": 82,
   "id": "f0229143",
   "metadata": {},
   "outputs": [
    {
     "name": "stdout",
     "output_type": "stream",
     "text": [
      "Cluster:0\n",
      "2    1125\n",
      "1    1018\n",
      "7     180\n",
      "5     113\n",
      "6      43\n",
      "3      14\n",
      "Name: target, dtype: int64\n",
      "Cluster:1\n",
      "2    973\n",
      "3    329\n",
      "1    318\n",
      "6    250\n",
      "5    156\n",
      "4     35\n",
      "7      3\n",
      "Name: target, dtype: int64\n",
      "Cluster:2\n",
      "2    372\n",
      "1    304\n",
      "5     64\n",
      "3     48\n",
      "6     46\n",
      "4     13\n",
      "7      2\n",
      "Name: target, dtype: int64\n",
      "Cluster:3\n",
      "1    1002\n",
      "7     814\n",
      "2     155\n",
      "Name: target, dtype: int64\n",
      "Cluster:4\n",
      "3    665\n",
      "6    327\n",
      "2    237\n",
      "4    127\n",
      "5     62\n",
      "1     11\n",
      "7      5\n",
      "Name: target, dtype: int64\n",
      "Cluster:5\n",
      "2    890\n",
      "1    578\n",
      "5    149\n",
      "7     73\n",
      "Name: target, dtype: int64\n",
      "Cluster:6\n",
      "2    959\n",
      "1    881\n",
      "7     81\n",
      "5     53\n",
      "6     20\n",
      "Name: target, dtype: int64\n"
     ]
    }
   ],
   "source": [
    "#K-means clustering distribution with true label count\n",
    "tl_count(y_km,y)"
   ]
  },
  {
   "cell_type": "code",
   "execution_count": 83,
   "id": "1ef2b24a",
   "metadata": {},
   "outputs": [
    {
     "data": {
      "text/plain": [
       "0    2493\n",
       "1    2064\n",
       "6    1994\n",
       "3    1971\n",
       "5    1690\n",
       "4    1434\n",
       "2     849\n",
       "Name: kmean, dtype: int64"
      ]
     },
     "execution_count": 83,
     "metadata": {},
     "output_type": "execute_result"
    }
   ],
   "source": [
    "#check the count of datapoints present in each cluster: K-means\n",
    "dataframe1 = pd.DataFrame()\n",
    "dataframe1['kmean'] = km.labels_\n",
    "dataframe1['kmean'].value_counts()"
   ]
  },
  {
   "cell_type": "markdown",
   "id": "36126a8d",
   "metadata": {},
   "source": [
    "### Agglomerative clustering distribution with true label count"
   ]
  },
  {
   "cell_type": "code",
   "execution_count": 84,
   "id": "9195ace8",
   "metadata": {},
   "outputs": [
    {
     "name": "stdout",
     "output_type": "stream",
     "text": [
      "Cluster:0\n",
      "2    984\n",
      "3    329\n",
      "1    318\n",
      "6    251\n",
      "5    156\n",
      "4     35\n",
      "7      3\n",
      "Name: target, dtype: int64\n",
      "Cluster:1\n",
      "3    665\n",
      "6    327\n",
      "2    226\n",
      "4    127\n",
      "5     62\n",
      "1     11\n",
      "7      5\n",
      "Name: target, dtype: int64\n",
      "Cluster:2\n",
      "2    1133\n",
      "1    1023\n",
      "7     180\n",
      "5     113\n",
      "6      43\n",
      "3      14\n",
      "Name: target, dtype: int64\n",
      "Cluster:3\n",
      "1    997\n",
      "7    814\n",
      "2    147\n",
      "Name: target, dtype: int64\n",
      "Cluster:4\n",
      "2    371\n",
      "1    304\n",
      "5     64\n",
      "3     48\n",
      "6     45\n",
      "4     13\n",
      "7      2\n",
      "Name: target, dtype: int64\n",
      "Cluster:5\n",
      "2    973\n",
      "1    592\n",
      "5    161\n",
      "7     73\n",
      "Name: target, dtype: int64\n",
      "Cluster:6\n",
      "2    877\n",
      "1    867\n",
      "7     81\n",
      "5     41\n",
      "6     20\n",
      "Name: target, dtype: int64\n"
     ]
    }
   ],
   "source": [
    "#Agglomerative clustering distribution with true label count\n",
    "tl_count(y_am,y)"
   ]
  },
  {
   "cell_type": "code",
   "execution_count": 85,
   "id": "727ccb84",
   "metadata": {},
   "outputs": [
    {
     "data": {
      "text/plain": [
       "2    2506\n",
       "0    2076\n",
       "3    1958\n",
       "6    1886\n",
       "5    1799\n",
       "1    1423\n",
       "4     847\n",
       "Name: agglomerative, dtype: int64"
      ]
     },
     "execution_count": 85,
     "metadata": {},
     "output_type": "execute_result"
    }
   ],
   "source": [
    "#check the count of datapoints present in each cluster: Agglomerative\n",
    "dataframe2 = pd.DataFrame()\n",
    "dataframe2['agglomerative'] = am.labels_\n",
    "dataframe2['agglomerative'].value_counts()"
   ]
  },
  {
   "cell_type": "markdown",
   "id": "3da5f285",
   "metadata": {},
   "source": [
    "### BIRCH clustering distribution with true label count"
   ]
  },
  {
   "cell_type": "code",
   "execution_count": 86,
   "id": "8a93a166",
   "metadata": {},
   "outputs": [
    {
     "name": "stdout",
     "output_type": "stream",
     "text": [
      "Cluster:0\n",
      "2    984\n",
      "3    329\n",
      "1    318\n",
      "6    251\n",
      "5    156\n",
      "4     35\n",
      "7      3\n",
      "Name: target, dtype: int64\n",
      "Cluster:1\n",
      "1    1006\n",
      "7     820\n",
      "2     147\n",
      "Name: target, dtype: int64\n",
      "Cluster:2\n",
      "2    1133\n",
      "1    1014\n",
      "7     174\n",
      "5     113\n",
      "6      43\n",
      "3      14\n",
      "Name: target, dtype: int64\n",
      "Cluster:3\n",
      "2    376\n",
      "1    316\n",
      "5     64\n",
      "3     48\n",
      "6     45\n",
      "4     13\n",
      "7      4\n",
      "Name: target, dtype: int64\n",
      "Cluster:4\n",
      "3    665\n",
      "6    327\n",
      "2    226\n",
      "4    127\n",
      "5     62\n",
      "1     11\n",
      "7      5\n",
      "Name: target, dtype: int64\n",
      "Cluster:5\n",
      "2    979\n",
      "1    593\n",
      "5    161\n",
      "7     73\n",
      "Name: target, dtype: int64\n",
      "Cluster:6\n",
      "2    866\n",
      "1    854\n",
      "7     79\n",
      "5     41\n",
      "6     20\n",
      "Name: target, dtype: int64\n"
     ]
    }
   ],
   "source": [
    "#BIRCH clustering distribution with true label count\n",
    "tl_count(y_br,y)"
   ]
  },
  {
   "cell_type": "code",
   "execution_count": 87,
   "id": "c3eac40e",
   "metadata": {},
   "outputs": [
    {
     "data": {
      "text/plain": [
       "2    2491\n",
       "0    2076\n",
       "1    1973\n",
       "6    1860\n",
       "5    1806\n",
       "4    1423\n",
       "3     866\n",
       "Name: BIRCH, dtype: int64"
      ]
     },
     "execution_count": 87,
     "metadata": {},
     "output_type": "execute_result"
    }
   ],
   "source": [
    "#check the count of datapoints present in each cluster: Birch\n",
    "dataframe3 = pd.DataFrame()\n",
    "dataframe3['BIRCH'] = br.labels_\n",
    "dataframe3['BIRCH'].value_counts()"
   ]
  },
  {
   "cell_type": "markdown",
   "id": "24d3a51f",
   "metadata": {},
   "source": [
    "### Gaussian mixture clustering distribution with true label count"
   ]
  },
  {
   "cell_type": "code",
   "execution_count": 88,
   "id": "cbfbbfdb",
   "metadata": {},
   "outputs": [
    {
     "name": "stdout",
     "output_type": "stream",
     "text": [
      "Cluster:0\n",
      "2    29\n",
      "3    18\n",
      "6     5\n",
      "1     3\n",
      "Name: target, dtype: int64\n",
      "Cluster:1\n",
      "2    215\n",
      "1    109\n",
      "6     19\n",
      "5     11\n",
      "7      7\n",
      "3      1\n",
      "Name: target, dtype: int64\n",
      "Cluster:2\n",
      "2    1489\n",
      "1     626\n",
      "3     518\n",
      "6     387\n",
      "5     323\n",
      "4      32\n",
      "Name: target, dtype: int64\n",
      "Cluster:3\n",
      "3    507\n",
      "2    277\n",
      "6    270\n",
      "4    143\n",
      "1     60\n",
      "5      8\n",
      "7      3\n",
      "Name: target, dtype: int64\n",
      "Cluster:4\n",
      "1    169\n",
      "7     71\n",
      "2     50\n",
      "Name: target, dtype: int64\n",
      "Cluster:5\n",
      "2    93\n",
      "1    67\n",
      "5    29\n",
      "7     6\n",
      "Name: target, dtype: int64\n",
      "Cluster:6\n",
      "1    3078\n",
      "2    2558\n",
      "7    1071\n",
      "5     226\n",
      "3      12\n",
      "6       5\n",
      "Name: target, dtype: int64\n"
     ]
    }
   ],
   "source": [
    "#Gaussian mixture clustering distribution with true label count\n",
    "tl_count(y_gmm,y)"
   ]
  },
  {
   "cell_type": "code",
   "execution_count": 89,
   "id": "fcde9ea9",
   "metadata": {},
   "outputs": [
    {
     "data": {
      "text/plain": [
       "6    6950\n",
       "2    3375\n",
       "3    1268\n",
       "1     362\n",
       "4     290\n",
       "5     195\n",
       "0      55\n",
       "Name: GMM, dtype: int64"
      ]
     },
     "execution_count": 89,
     "metadata": {},
     "output_type": "execute_result"
    }
   ],
   "source": [
    "#check the count of datapoints present in each cluster: Gaussian Mixture \n",
    "dataframe4 = pd.DataFrame()\n",
    "dataframe4['GMM'] = y_gmm\n",
    "dataframe4['GMM'].value_counts()"
   ]
  },
  {
   "cell_type": "markdown",
   "id": "eece63e0",
   "metadata": {},
   "source": [
    "# Q1 (4) Comaparision of cluster formation"
   ]
  },
  {
   "cell_type": "code",
   "execution_count": 90,
   "id": "2d82fe6b",
   "metadata": {},
   "outputs": [
    {
     "data": {
      "text/plain": [
       "0.6901680089356056"
      ]
     },
     "execution_count": 90,
     "metadata": {},
     "output_type": "execute_result"
    }
   ],
   "source": [
    "#rand score for K-means\n",
    "rand_score(y,km.labels_)"
   ]
  },
  {
   "cell_type": "code",
   "execution_count": 91,
   "id": "ca7ce50f",
   "metadata": {},
   "outputs": [
    {
     "data": {
      "text/plain": [
       "0.6906230652978336"
      ]
     },
     "execution_count": 91,
     "metadata": {},
     "output_type": "execute_result"
    }
   ],
   "source": [
    "#rand score for agglomerative\n",
    "rand_score(y,am.labels_)"
   ]
  },
  {
   "cell_type": "code",
   "execution_count": 92,
   "id": "74693976",
   "metadata": {},
   "outputs": [
    {
     "data": {
      "text/plain": [
       "0.6908459045535935"
      ]
     },
     "execution_count": 92,
     "metadata": {},
     "output_type": "execute_result"
    }
   ],
   "source": [
    "#rand score for BIRCH\n",
    "rand_score(y,br.labels_)"
   ]
  },
  {
   "cell_type": "code",
   "execution_count": 93,
   "id": "c7a8387b",
   "metadata": {},
   "outputs": [
    {
     "data": {
      "text/plain": [
       "0.6016009989717033"
      ]
     },
     "execution_count": 93,
     "metadata": {},
     "output_type": "execute_result"
    }
   ],
   "source": [
    "#rand score for gaussian mixture\n",
    "rand_score(y,y_gmm)"
   ]
  },
  {
   "cell_type": "markdown",
   "id": "56151267",
   "metadata": {},
   "source": [
    "# Q2 Prediction of clusters"
   ]
  },
  {
   "cell_type": "code",
   "execution_count": 94,
   "id": "45b6c3eb",
   "metadata": {},
   "outputs": [],
   "source": [
    "def map_cl(y_target,y_label):\n",
    "    cluster_map={}\n",
    "    for i in range(7):\n",
    "        add=np.where(y_label==i)[0].tolist()\n",
    "        y=y_target.iloc[add]\n",
    "        check_y=check_label(y)\n",
    "        cluster_map[i]=check_y\n",
    "    return cluster_map"
   ]
  },
  {
   "cell_type": "markdown",
   "id": "c5a25572",
   "metadata": {},
   "source": [
    "### Checking which clustering model is giving better mapping\n",
    "### Gaussian model and K-means are mapping the true labels more accurately"
   ]
  },
  {
   "cell_type": "code",
   "execution_count": 95,
   "id": "7de2e27e",
   "metadata": {},
   "outputs": [
    {
     "data": {
      "text/plain": [
       "{0: 3, 1: 2, 2: 6, 3: 3, 4: 7, 5: 5, 6: 7}"
      ]
     },
     "execution_count": 95,
     "metadata": {},
     "output_type": "execute_result"
    }
   ],
   "source": [
    "#checking after mapping with GMM\n",
    "cluster_map=map_cl(y,y_gmm)\n",
    "cluster_map"
   ]
  },
  {
   "cell_type": "code",
   "execution_count": 96,
   "id": "973debf8",
   "metadata": {},
   "outputs": [],
   "source": [
    "#function to assign clusters\n",
    "def assign(cluster_map,y_label):\n",
    "    yp=np.zeros(y_label.shape)\n",
    "    for i in cluster_map:\n",
    "        add=np.where(y_label==i)[0].tolist()\n",
    "        yp[add]=cluster_map[i]\n",
    "    return yp"
   ]
  },
  {
   "cell_type": "code",
   "execution_count": 97,
   "id": "8c1ff6f8",
   "metadata": {},
   "outputs": [
    {
     "data": {
      "text/plain": [
       "0.10842750495934864"
      ]
     },
     "execution_count": 97,
     "metadata": {},
     "output_type": "execute_result"
    }
   ],
   "source": [
    "yp=assign(cluster_map,y_gmm)\n",
    "f1_score(y,yp,average='weighted')"
   ]
  },
  {
   "cell_type": "code",
   "execution_count": 52,
   "id": "1893aca6",
   "metadata": {},
   "outputs": [
    {
     "data": {
      "text/plain": [
       "{0: 1, 1: 6, 2: 5, 3: 7, 4: 3, 5: 5, 6: 1}"
      ]
     },
     "execution_count": 52,
     "metadata": {},
     "output_type": "execute_result"
    }
   ],
   "source": [
    "#checking after mapping with K-means\n",
    "cluster_map=map_cl(y,y_km)\n",
    "cluster_map"
   ]
  },
  {
   "cell_type": "code",
   "execution_count": 53,
   "id": "8d045d25",
   "metadata": {},
   "outputs": [
    {
     "data": {
      "text/plain": [
       "0.255186767444744"
      ]
     },
     "execution_count": 53,
     "metadata": {},
     "output_type": "execute_result"
    }
   ],
   "source": [
    "yp=assign(cluster_map,y_km)\n",
    "f1_score(y,yp,average='weighted')"
   ]
  },
  {
   "cell_type": "code",
   "execution_count": 54,
   "id": "bbe54e86",
   "metadata": {},
   "outputs": [
    {
     "data": {
      "text/plain": [
       "{0: 6, 1: 3, 2: 1, 3: 7, 4: 5, 5: 5, 6: 1}"
      ]
     },
     "execution_count": 54,
     "metadata": {},
     "output_type": "execute_result"
    }
   ],
   "source": [
    "#checking after mapping with Agglomerative clustering\n",
    "cluster_map=map_cl(y,y_am)\n",
    "cluster_map"
   ]
  },
  {
   "cell_type": "code",
   "execution_count": 55,
   "id": "6b764994",
   "metadata": {},
   "outputs": [
    {
     "data": {
      "text/plain": [
       "0.25665127552418765"
      ]
     },
     "execution_count": 55,
     "metadata": {},
     "output_type": "execute_result"
    }
   ],
   "source": [
    "yp=assign(cluster_map,y_am)\n",
    "f1_score(y,yp,average='weighted')"
   ]
  },
  {
   "cell_type": "code",
   "execution_count": 56,
   "id": "2aaf942f",
   "metadata": {},
   "outputs": [
    {
     "data": {
      "text/plain": [
       "{0: 6, 1: 7, 2: 1, 3: 5, 4: 3, 5: 5, 6: 1}"
      ]
     },
     "execution_count": 56,
     "metadata": {},
     "output_type": "execute_result"
    }
   ],
   "source": [
    "#checking after mapping with BIRCH\n",
    "cluster_map=map_cl(y,y_br)\n",
    "cluster_map"
   ]
  },
  {
   "cell_type": "code",
   "execution_count": 57,
   "id": "e61cc59f",
   "metadata": {},
   "outputs": [
    {
     "data": {
      "text/plain": [
       "0.2557194604016048"
      ]
     },
     "execution_count": 57,
     "metadata": {},
     "output_type": "execute_result"
    }
   ],
   "source": [
    "yp=assign(cluster_map,y_br)\n",
    "f1_score(y,yp,average='weighted')"
   ]
  },
  {
   "cell_type": "markdown",
   "id": "e29eae8f",
   "metadata": {},
   "source": [
    "### Gaussian model is giving better score"
   ]
  },
  {
   "cell_type": "code",
   "execution_count": 58,
   "id": "52447d72",
   "metadata": {},
   "outputs": [],
   "source": [
    "x_train, x_test, y_train, y_test = train_test_split(data, y, test_size=0.20, random_state=42,stratify=y)"
   ]
  },
  {
   "cell_type": "code",
   "execution_count": 59,
   "id": "a443eaaa",
   "metadata": {},
   "outputs": [],
   "source": [
    "gmm = GaussianMixture(n_components=7)\n",
    "gmm.fit(x_train)\n",
    "y_gmm=gmm.predict(x_train)\n",
    "gmm.cluster_map=map_cl(y_train,y_gmm)"
   ]
  },
  {
   "cell_type": "code",
   "execution_count": null,
   "id": "7c03c00a",
   "metadata": {},
   "outputs": [],
   "source": [
    "gmm.cluster_map=map_cl(y,y_gmm)\n",
    "pickle.dump(gmm, open('model1', 'wb'))"
   ]
  },
  {
   "cell_type": "markdown",
   "id": "8c66a3fa",
   "metadata": {},
   "source": [
    "### Checking the performance of the model on the data"
   ]
  },
  {
   "cell_type": "code",
   "execution_count": 99,
   "id": "cb725b30",
   "metadata": {},
   "outputs": [],
   "source": [
    "def predict(test_set) :\n",
    "    prediction=[]\n",
    "    model= pickle.load(open('model1','rb'))\n",
    "    prediction=model.predict(test_set)\n",
    "    yp=assign(model.cluster_map,np.array(prediction))\n",
    "    return yp"
   ]
  },
  {
   "cell_type": "code",
   "execution_count": 100,
   "id": "2cff992a",
   "metadata": {},
   "outputs": [
    {
     "data": {
      "text/plain": [
       "2    942\n",
       "1    823\n",
       "7    232\n",
       "3    211\n",
       "6    137\n",
       "5    119\n",
       "4     35\n",
       "Name: target, dtype: int64"
      ]
     },
     "execution_count": 100,
     "metadata": {},
     "output_type": "execute_result"
    }
   ],
   "source": [
    "y_test.value_counts()"
   ]
  },
  {
   "cell_type": "code",
   "execution_count": 101,
   "id": "069db8a7",
   "metadata": {},
   "outputs": [],
   "source": [
    "yp=predict(x_test)"
   ]
  },
  {
   "cell_type": "code",
   "execution_count": 102,
   "id": "276e0eb6",
   "metadata": {},
   "outputs": [
    {
     "data": {
      "text/plain": [
       "2.0    2156\n",
       "6.0     279\n",
       "7.0      44\n",
       "4.0      14\n",
       "3.0       6\n",
       "dtype: int64"
      ]
     },
     "execution_count": 102,
     "metadata": {},
     "output_type": "execute_result"
    }
   ],
   "source": [
    "yp1=pd.DataFrame(yp)\n",
    "yp1.value_counts()"
   ]
  },
  {
   "cell_type": "code",
   "execution_count": 103,
   "id": "535432cf",
   "metadata": {},
   "outputs": [
    {
     "data": {
      "text/plain": [
       "0.22312373457536944"
      ]
     },
     "execution_count": 103,
     "metadata": {},
     "output_type": "execute_result"
    }
   ],
   "source": [
    "f1_score(y_test,yp,average='weighted')"
   ]
  },
  {
   "cell_type": "code",
   "execution_count": 105,
   "id": "9fecaefd",
   "metadata": {},
   "outputs": [
    {
     "name": "stdout",
     "output_type": "stream",
     "text": [
      "              precision    recall  f1-score   support\n",
      "\n",
      "           1       0.00      0.00      0.00       823\n",
      "           2       0.41      0.95      0.58       942\n",
      "           3       0.00      0.00      0.00       211\n",
      "           4       0.00      0.00      0.00        35\n",
      "           5       0.00      0.00      0.00       119\n",
      "           6       0.00      0.00      0.00       137\n",
      "           7       0.20      0.04      0.07       232\n",
      "\n",
      "    accuracy                           0.36      2499\n",
      "   macro avg       0.09      0.14      0.09      2499\n",
      "weighted avg       0.17      0.36      0.22      2499\n",
      "\n"
     ]
    }
   ],
   "source": [
    "print(classification_report(y_test,yp,zero_division=0))"
   ]
  },
  {
   "cell_type": "markdown",
   "id": "f3801aaa",
   "metadata": {},
   "source": [
    "# PREDICT FUNCTION"
   ]
  },
  {
   "cell_type": "code",
   "execution_count": null,
   "id": "4c05860b",
   "metadata": {},
   "outputs": [],
   "source": [
    "#importing necessary libraries\n",
    "import numpy as np\n",
    "import pandas as pd\n",
    "from sklearn.model_selection import train_test_split\n",
    "from sklearn import metrics\n",
    "import seaborn as sns\n",
    "import matplotlib.pyplot as plt\n",
    "from sklearn.preprocessing import OneHotEncoder\n",
    "from sklearn.manifold import TSNE\n",
    "from sklearn.cluster import KMeans\n",
    "from sklearn.cluster import AgglomerativeClustering\n",
    "from sklearn.cluster import Birch\n",
    "from sklearn.mixture import GaussianMixture\n",
    "from sklearn.metrics.cluster import rand_score\n",
    "from scipy.stats import mode\n",
    "import pickle\n",
    "from sklearn.metrics import f1_score\n",
    "from sklearn.model_selection import train_test_split"
   ]
  },
  {
   "cell_type": "code",
   "execution_count": 107,
   "id": "ffbcd9cf",
   "metadata": {},
   "outputs": [],
   "source": [
    "def assign(cluster_map,y_label):\n",
    "    yp=np.zeros(y_label.shape)\n",
    "    for i in cluster_map:\n",
    "        add=np.where(y_label==i)[0].tolist()\n",
    "        yp[add]=cluster_map[i]\n",
    "    return yp"
   ]
  },
  {
   "cell_type": "code",
   "execution_count": 108,
   "id": "1a55f1a8",
   "metadata": {},
   "outputs": [],
   "source": [
    "def predict(test_set) :\n",
    "    prediction=[]\n",
    "    model= pickle.load(open('final_model','rb'))\n",
    "    testpd=pd.read_csv(test_set)\n",
    "    testpd=pd.get_dummies(testpd)\n",
    "    prediction=model.predict(testpd)\n",
    "    yp=assign(model.cluster_map,np.array(prediction))\n",
    "    return yp"
   ]
  },
  {
   "cell_type": "code",
   "execution_count": null,
   "id": "874dd99c",
   "metadata": {},
   "outputs": [],
   "source": [
    "#predict('test.csv')"
   ]
  }
 ],
 "metadata": {
  "kernelspec": {
   "display_name": "Python 3 (ipykernel)",
   "language": "python",
   "name": "python3"
  },
  "language_info": {
   "codemirror_mode": {
    "name": "ipython",
    "version": 3
   },
   "file_extension": ".py",
   "mimetype": "text/x-python",
   "name": "python",
   "nbconvert_exporter": "python",
   "pygments_lexer": "ipython3",
   "version": "3.9.7"
  }
 },
 "nbformat": 4,
 "nbformat_minor": 5
}
