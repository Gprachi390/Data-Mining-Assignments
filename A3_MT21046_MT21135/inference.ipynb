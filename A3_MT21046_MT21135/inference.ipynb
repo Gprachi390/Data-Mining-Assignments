{
 "cells": [
  {
   "cell_type": "code",
   "execution_count": 2,
   "id": "a145c619",
   "metadata": {},
   "outputs": [],
   "source": [
    "#importing necessary libraries\n",
    "import numpy as np\n",
    "import pandas as pd\n",
    "from sklearn.model_selection import train_test_split\n",
    "from sklearn import metrics\n",
    "import seaborn as sns\n",
    "import matplotlib.pyplot as plt\n",
    "from sklearn.preprocessing import OneHotEncoder\n",
    "from sklearn.manifold import TSNE\n",
    "from sklearn.cluster import KMeans\n",
    "from sklearn.cluster import AgglomerativeClustering\n",
    "from sklearn.cluster import Birch\n",
    "from sklearn.mixture import GaussianMixture\n",
    "from sklearn.metrics.cluster import rand_score\n",
    "from scipy.stats import mode\n",
    "import pickle\n",
    "from sklearn.metrics import f1_score\n",
    "from sklearn.model_selection import train_test_split\n",
    "\n",
    "\n",
    "\n",
    "def assign(cluster_map,y_label):\n",
    "    yp=np.zeros(y_label.shape)\n",
    "    for i in cluster_map:\n",
    "        add=np.where(y_label==i)[0].tolist()\n",
    "        yp[add]=cluster_map[i]\n",
    "    return yp\n",
    "\n",
    "\n",
    "def predict(test_set) :\n",
    "    prediction=[]\n",
    "    model= pickle.load(open('final_model','rb'))\n",
    "    testpd=pd.read_csv(test_set)\n",
    "    testpd=pd.get_dummies(testpd)\n",
    "    prediction=model.predict(testpd)\n",
    "    yp=assign(model.cluster_map,np.array(prediction))\n",
    "    return yp\n"
   ]
  },
  {
   "cell_type": "code",
   "execution_count": 3,
   "id": "93510b45",
   "metadata": {},
   "outputs": [],
   "source": [
    "#predict('test.csv')"
   ]
  }
 ],
 "metadata": {
  "kernelspec": {
   "display_name": "Python 3 (ipykernel)",
   "language": "python",
   "name": "python3"
  },
  "language_info": {
   "codemirror_mode": {
    "name": "ipython",
    "version": 3
   },
   "file_extension": ".py",
   "mimetype": "text/x-python",
   "name": "python",
   "nbconvert_exporter": "python",
   "pygments_lexer": "ipython3",
   "version": "3.9.7"
  }
 },
 "nbformat": 4,
 "nbformat_minor": 5
}
